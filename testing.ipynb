{
 "cells": [
  {
   "cell_type": "code",
   "execution_count": 1,
   "outputs": [],
   "source": [
    "from langchain_utils import PDFQA, PDFSummarize"
   ],
   "metadata": {
    "collapsed": false,
    "ExecuteTime": {
     "end_time": "2024-03-16T04:30:21.297245900Z",
     "start_time": "2024-03-16T04:30:19.799255900Z"
    }
   }
  },
  {
   "cell_type": "code",
   "execution_count": 2,
   "outputs": [],
   "source": [
    "# pipe = PDFQA(\"la_trama_de_la_vida.pdf\")"
   ],
   "metadata": {
    "collapsed": false,
    "ExecuteTime": {
     "end_time": "2024-03-14T05:18:53.147389500Z",
     "start_time": "2024-03-14T05:18:34.719962900Z"
    }
   }
  },
  {
   "cell_type": "code",
   "execution_count": 3,
   "outputs": [
    {
     "name": "stdout",
     "output_type": "stream",
     "text": [
      "El determinismo estructural es un concepto que sostiene que el comportamiento de un organismo vivo está determinado por su propia estructura, formada por una sucesión de cambios estructurales autónomos. Aunque el comportamiento está determinado, no es predecible y es libre a la vez. En resumen, el determinismo estructural se refiere a cómo la estructura de un organismo vivo condiciona su comportamiento y sus interacciones.\n"
     ]
    }
   ],
   "source": [
    "# pipe.ask(\"Qué es es el determinismo estructural?\")"
   ],
   "metadata": {
    "collapsed": false,
    "ExecuteTime": {
     "end_time": "2024-03-14T05:18:57.444220300Z",
     "start_time": "2024-03-14T05:18:55.029691100Z"
    }
   }
  },
  {
   "cell_type": "code",
   "execution_count": 2,
   "outputs": [
    {
     "name": "stdout",
     "output_type": "stream",
     "text": [
      "El resumen consolidado de los tópicos principales de los resúmenes proporcionados incluye la importancia de la lectura y los libros como fuentes de felicidad, memoria y sabiduría. Se destaca la influencia de la nacionalidad en la obra de los autores, la relación entre la personalidad del autor y su país de origen, y la elección de figuras literarias como símbolos de la nación. También se menciona la importancia de la voz del autor en la experiencia de lectura, la valoración de la lectura directa de libros y la pasión por la lectura como fuente de alegría y placer. En resumen, se aborda la importancia de la literatura como generadora de alegría, la felicidad que brindan los libros, y la búsqueda de sabiduría y enriquecimiento a través de la lectura.\n"
     ]
    }
   ],
   "source": [
    "print(PDFSummarize(\"el_libro.pdf\", chain_type=\"map_reduce\", lang=\"es\"))"
   ],
   "metadata": {
    "collapsed": false,
    "ExecuteTime": {
     "end_time": "2024-03-16T04:30:59.953637200Z",
     "start_time": "2024-03-16T04:30:24.185587700Z"
    }
   }
  }
 ],
 "metadata": {
  "kernelspec": {
   "display_name": "Python 3",
   "language": "python",
   "name": "python3"
  },
  "language_info": {
   "codemirror_mode": {
    "name": "ipython",
    "version": 2
   },
   "file_extension": ".py",
   "mimetype": "text/x-python",
   "name": "python",
   "nbconvert_exporter": "python",
   "pygments_lexer": "ipython2",
   "version": "2.7.6"
  }
 },
 "nbformat": 4,
 "nbformat_minor": 0
}
